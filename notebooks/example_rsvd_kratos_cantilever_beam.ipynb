{
 "cells": [
  {
   "cell_type": "markdown",
   "id": "polish-problem",
   "metadata": {},
   "source": [
    "# Example: application rSVD Kratos to a free beam\n",
    "\n",
    "02/02/2021\n",
    "\n",
    "I apply the Kratos rSVD algorithm to an output file from a small dynamic simulation carried out by RamSeries. \n",
    "\n",
    "The model is a free cantilever beam with a dynamic sinusoidal pressure load.\n",
    "\n",
    "freq = 0.1Hz\n",
    "Load = -1000N/m2\n",
    "dt = 0.1s\n",
    "time_steps = 800"
   ]
  },
  {
   "cell_type": "markdown",
   "id": "public-light",
   "metadata": {},
   "source": [
    "### Import libraries"
   ]
  },
  {
   "cell_type": "code",
   "execution_count": 7,
   "id": "everyday-jordan",
   "metadata": {},
   "outputs": [],
   "source": [
    "import numpy as np\n",
    "import matplotlib.pyplot as plt\n",
    "\n",
    "from pathlib import Path"
   ]
  },
  {
   "cell_type": "markdown",
   "id": "silent-banks",
   "metadata": {},
   "source": [
    "### Read output file of Compass: computation of the snapshot matrix"
   ]
  },
  {
   "cell_type": "markdown",
   "id": "coral-preservation",
   "metadata": {},
   "source": [
    "I have developed a function to read the output file of RamSeries and compute the snapshot matrix"
   ]
  },
  {
   "cell_type": "code",
   "execution_count": 8,
   "id": "ordered-business",
   "metadata": {},
   "outputs": [],
   "source": [
    "def create_snapshotmatrix_from_file(path_file):\n",
    "    \"\"\" Compute snapshot matrix from output ascii file of Compass.\"\"\"\n",
    "\n",
    "    # Read lines and close file\n",
    "    f = open(path_file, 'r')\n",
    "    lines = f.readlines()\n",
    "    f.close()\n",
    "\n",
    "    # Create list of time steps\n",
    "    deg_freedom = 3  # displ_x, displ_y, displ_z\n",
    "    t = []\n",
    "    values_list = []\n",
    "\n",
    "    for i_line, line in enumerate(lines):\n",
    "        if 'Result \"Displacements (m)\"' in line:\n",
    "            t.append(float(line.split()[4]))\n",
    "            i_jump = 3  # Lines to jump between header and values.\n",
    "            values = []\n",
    "\n",
    "            while lines[i_line + i_jump][0].isdigit():\n",
    "                values.append(lines[i_line + i_jump])\n",
    "                i_jump = i_jump + 1\n",
    "\n",
    "            values_list.append(values)\n",
    "\n",
    "    nb_nodes = len(values_list[0])\n",
    "    nb_time_steps = len(values_list)\n",
    "\n",
    "    # Create snapshot matrix\n",
    "    snapshot_mtx = np.empty(shape=(nb_nodes * deg_freedom, nb_time_steps))\n",
    "\n",
    "    for i_time_step in np.arange(nb_time_steps):\n",
    "        values_to_list = []\n",
    "\n",
    "        # Convert string to float values (displ_x, displ_y, displ_z)\n",
    "        for i_node in np.arange(nb_nodes):\n",
    "            values_to_list.append(float(values_list[i_time_step][i_node].split()[1]))\n",
    "            values_to_list.append(float(values_list[i_time_step][i_node].split()[2]))\n",
    "            values_to_list.append(float(values_list[i_time_step][i_node].split()[3]))\n",
    "\n",
    "        snapshot_mtx[:, i_time_step] = np.array(values_to_list)\n",
    "\n",
    "    return snapshot_mtx"
   ]
  },
  {
   "cell_type": "markdown",
   "id": "finished-holocaust",
   "metadata": {},
   "source": [
    " We define the path of the output file"
   ]
  },
  {
   "cell_type": "code",
   "execution_count": 12,
   "id": "thousand-participation",
   "metadata": {},
   "outputs": [],
   "source": [
    "path_root = Path(\"/home/usuari/Documentos/CIMNE/bibliografia/model_order_reduction/python_scripts\")\n",
    "name_file = \"beam_simple_f01hz_dt01_tsteps800_msh005.flavia.res\"\n",
    "path_file = path_root / name_file"
   ]
  },
  {
   "cell_type": "markdown",
   "id": "sitting-mineral",
   "metadata": {},
   "source": [
    "Computation of the snapshot matrix"
   ]
  },
  {
   "cell_type": "code",
   "execution_count": 13,
   "id": "typical-racing",
   "metadata": {},
   "outputs": [],
   "source": [
    "snapshot_matrix = create_snapshotmatrix_from_file(path_file)"
   ]
  },
  {
   "cell_type": "code",
   "execution_count": 19,
   "id": "unlike-percentage",
   "metadata": {},
   "outputs": [
    {
     "name": "stdout",
     "output_type": "stream",
     "text": [
      "number of nodes = 201\n",
      "number of time steps = 800\n"
     ]
    }
   ],
   "source": [
    "degrees_freedom = 3 \n",
    "print(f\"number of nodes = {snapshot_matrix.shape[0] // degrees_freedom}\")\n",
    "print(f\"number of time steps = {snapshot_matrix.shape[1]}\")"
   ]
  },
  {
   "cell_type": "markdown",
   "id": "detected-depression",
   "metadata": {},
   "source": [
    "### Plot the displacements for different nodes"
   ]
  },
  {
   "cell_type": "markdown",
   "id": "prerequisite-supplement",
   "metadata": {},
   "source": [
    "I have implemented a function to plot the displacements as function of time at different nodes"
   ]
  },
  {
   "cell_type": "code",
   "execution_count": 20,
   "id": "cordless-czech",
   "metadata": {},
   "outputs": [],
   "source": [
    "def plot_displacements_time_per_node(snapshot_matrix, deg_freedom=3, nb_nodes_decimation=20):\n",
    "    \"\"\"\n",
    "    Plot displacements as function of time per node.\n",
    "    Only implemented for the output file: \n",
    "    beam_simple_f01hz_dt01_tsteps800_msh005.flavia.res\n",
    "    \"\"\"\n",
    "\n",
    "    # Create parameters figure\n",
    "    fig, ax = plt.subplots()\n",
    "    ax.set_xlabel(\"t(s)\")\n",
    "    ax.set_ylabel(\"u (m)\")\n",
    "\n",
    "    # Create array time\n",
    "    times = np.arange(0, 80, 0.1)\n",
    "\n",
    "    # Create array indices\n",
    "    array_indices = np.arange(1, 201, deg_freedom * nb_nodes_decimation)\n",
    "\n",
    "    # Plot each node\n",
    "    for ii, node in enumerate(array_indices):\n",
    "        ax.plot(times, snapshot_matrix[node], \"-o\", label=f\"Node {node}\")\n",
    "\n",
    "    plt.legend()\n",
    "\n",
    "    return fig, ax"
   ]
  },
  {
   "cell_type": "code",
   "execution_count": 21,
   "id": "exempt-missouri",
   "metadata": {},
   "outputs": [
    {
     "data": {
      "image/png": "[encoded data removed]",
      "text/plain": [
       "<Figure size 432x288 with 1 Axes>"
      ]
     },
     "metadata": {
      "needs_background": "light"
     },
     "output_type": "display_data"
    }
   ],
   "source": [
    "fig, ax = plot_displacements_time_per_node(snapshot_matrix)"
   ]
  },
  {
   "cell_type": "markdown",
   "id": "impressed-adobe",
   "metadata": {},
   "source": [
    "Node 1 is the node at the free side of the beam. \n",
    "Node 181 is the node close to the constrained side.\n",
    "\n",
    "The frequency of the displacement is the same as the frequency of the sinusoidal pressure load. "
   ]
  },
  {
   "cell_type": "markdown",
   "id": "restricted-video",
   "metadata": {},
   "source": [
    "### Apply Kratos rSVD to the output file"
   ]
  },
  {
   "cell_type": "code",
   "execution_count": 24,
   "id": "spiritual-naples",
   "metadata": {},
   "outputs": [],
   "source": [
    "from KratosMultiphysics.RomApplication.randomized_singular_value_decomposition import RandomizedSingularValueDecomposition"
   ]
  },
  {
   "cell_type": "code",
   "execution_count": 25,
   "id": "vanilla-satisfaction",
   "metadata": {},
   "outputs": [
    {
     "name": "stdout",
     "output_type": "stream",
     "text": [
      "iter =  1  nC =  6.82709976723093e-07  dR =  4.0  R =  4\n",
      "reorthogonalizing\n",
      "iter =  2  nC =  5.08664171651301e-07  dR =  31.0  R =  35\n",
      "reorthogonalizing\n",
      "iter =  3  nC =  5.216504080987838e-09  dR =  151.0  R =  186\n",
      "reorthogonalizing\n",
      "iter =  4  nC =  5.783243557758824e-14  dR =  151.0  R =  337\n"
     ]
    }
   ],
   "source": [
    "# Compute randomized Singular Value Decomposition of the snapshot matrix\n",
    "tolerance = 1e-6\n",
    "u, s, _, _ = RandomizedSingularValueDecomposition().Calculate(snapshot_matrix, tolerance)"
   ]
  },
  {
   "cell_type": "code",
   "execution_count": 27,
   "id": "israeli-travel",
   "metadata": {},
   "outputs": [
    {
     "name": "stdout",
     "output_type": "stream",
     "text": [
      "Number of modes = 1\n"
     ]
    }
   ],
   "source": [
    "print(f\"Number of modes = {u.shape[1]}\")"
   ]
  },
  {
   "cell_type": "markdown",
   "id": "geological-january",
   "metadata": {},
   "source": [
    "This mode corresponds to the frequency of the displacement."
   ]
  }
 ],
 "metadata": {
  "kernelspec": {
   "display_name": "Python 3",
   "language": "python",
   "name": "python3"
  },
  "language_info": {
   "codemirror_mode": {
    "name": "ipython",
    "version": 3
   },
   "file_extension": ".py",
   "mimetype": "text/x-python",
   "name": "python",
   "nbconvert_exporter": "python",
   "pygments_lexer": "ipython3",
   "version": "3.8.5"
  }
 },
 "nbformat": 4,
 "nbformat_minor": 5
}
