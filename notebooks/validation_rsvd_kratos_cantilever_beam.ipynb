{
 "cells": [
  {
   "cell_type": "markdown",
   "id": "dynamic-daily",
   "metadata": {},
   "source": [
    "# Validation rSVD Kratos\n",
    "\n",
    "12 / 02 / 2021\n",
    "\n",
    "This notebook compares the displacement constructed from the first natural mode and frequency with the displacement reconstructed from the output of KRATOS.\n",
    "\n",
    "The main steps are:\n",
    "\n",
    "1. Modal analysis of a cantilever beam with RamSeries.\n",
    "\n",
    "2. Read the output ascii file to get the first mode and first natural frequency.\n",
    "\n",
    "3. Create a snapshot matrix with the displacement time history of the first natural mode and natural frequency. \n",
    "\n",
    "4. Perform rSVD of the snapshot matrix using KRATOS tools.\n",
    "\n",
    "5. Reconstruction of the displacement field from Kratos output. \n",
    "\n",
    "6. Comparison between the two displacement fields."
   ]
  },
  {
   "cell_type": "markdown",
   "id": "familiar-medication",
   "metadata": {},
   "source": [
    "## Import libraries"
   ]
  },
  {
   "cell_type": "code",
   "execution_count": 14,
   "id": "exposed-saudi",
   "metadata": {},
   "outputs": [],
   "source": [
    "import numpy as np\n",
    "import matplotlib.pyplot as plt\n",
    "\n",
    "from pathlib import Path\n",
    "from KratosMultiphysics.RomApplication.randomized_singular_value_decomposition import RandomizedSingularValueDecomposition"
   ]
  },
  {
   "cell_type": "markdown",
   "id": "subsequent-tanzania",
   "metadata": {},
   "source": [
    "## Function to read the ascii file of a modal analysis with RamSeries\n",
    "\n",
    "It reads the output file of a modal analysis performed with RamSeries. \n",
    "It returns the first nb_first_modes chosen by the user. "
   ]
  },
  {
   "cell_type": "code",
   "execution_count": 15,
   "id": "amazing-clinic",
   "metadata": {},
   "outputs": [],
   "source": [
    "def read_modes_freq_from_file(path_file, nb_first_modes):\n",
    "    \"\"\"\n",
    "    Read natural frequencies and modes from a modal analysis file from Ramseries.\n",
    "    \"\"\"\n",
    "    # Open and read file.\n",
    "    f = open(path_file, \"r\")\n",
    "    lines = f.readlines()\n",
    "    f.close()\n",
    "\n",
    "    # Choose the q first modes.\n",
    "    modes = np.arange(1, nb_first_modes + 1)\n",
    "\n",
    "    # Create the list of frequencies and choosen modes.\n",
    "    frequencies = []\n",
    "    values_list = []\n",
    "    for i_line, line in enumerate(lines):\n",
    "        for mode in modes:\n",
    "            if f'Result \"Mode_{mode}_' in line and not \"Modes_rotations\" in line:\n",
    "                print(line)\n",
    "                frequencies.append(float(line.split()[2].split(\")\")[0]))\n",
    "                i_jump = 3  # Lines to jump between header and values.\n",
    "                values = []\n",
    "                while lines[i_line + i_jump][0].isdigit():\n",
    "                    values.append(lines[i_line + i_jump])\n",
    "                    i_jump = i_jump + 1\n",
    "                values_list.append(values)\n",
    "\n",
    "    return frequencies, values_list"
   ]
  },
  {
   "cell_type": "markdown",
   "id": "respective-lodging",
   "metadata": {},
   "source": [
    "## Function to compute the snapshot matrix from the modes and natural frequencies of the modal analysis\n",
    "In this case, I build the snapshot matrix with the first mode. "
   ]
  },
  {
   "cell_type": "code",
   "execution_count": 16,
   "id": "wooden-setup",
   "metadata": {},
   "outputs": [],
   "source": [
    "def reconstruct_displacement_from_modes(\n",
    "        frequencies, modes_values_list, t_start=0, nb_periods=10):\n",
    "    \"\"\"\n",
    "    Reconstruct the displacement history with given natural frequencies and modes. The displacement field has a shape\n",
    "    u(t) = mode * sin (frequency * time)\n",
    "    \"\"\"\n",
    "    # Compute t_end with the chosen number of periods.\n",
    "    t_end = 10 * 1. / np.min(frequencies)\n",
    "    duration = t_end - t_start  # in seconds\n",
    "\n",
    "    # 50 sampling points of the maximum frequency.\n",
    "    dt_sampling = 0.05 * 1. / np.max(frequencies)\n",
    "\n",
    "    # Compute number of time steps\n",
    "    nb_time_steps = round(duration / dt_sampling)\n",
    "\n",
    "    # Create snapshot matrix\n",
    "    deg_freedom = 3\n",
    "    nb_nodes = len(modes_values_list[0])\n",
    "    snapshot_mtx = np.empty(\n",
    "        shape=(len(modes_values_list), nb_nodes * deg_freedom, nb_time_steps))\n",
    "\n",
    "    # Create array of time\n",
    "    times = np.linspace(t_start, t_end, nb_time_steps)\n",
    "\n",
    "    # Compute the sinthetic field (sinusoidal for each node)\n",
    "    for i_mode in np.arange(len(modes_values_list)):\n",
    "        i_node_snapshot_mtx = 0\n",
    "        for i_node in np.arange(nb_nodes):\n",
    "            displ_x = float(modes_values_list[i_mode][i_node].split()[1]) * np.sin(\n",
    "                frequencies[i_mode] * 2 * np.pi * times)\n",
    "            displ_y = float(modes_values_list[i_mode][i_node].split()[2]) * np.sin(\n",
    "                frequencies[i_mode] * 2 * np.pi * times)\n",
    "            displ_z = float(modes_values_list[i_mode][i_node].split()[3]) * np.sin(\n",
    "                frequencies[i_mode] * 2 * np.pi * times)\n",
    "\n",
    "            # Add to snapshot matrix\n",
    "            snapshot_mtx[i_mode, i_node_snapshot_mtx, :] = displ_x\n",
    "            snapshot_mtx[i_mode, i_node_snapshot_mtx + 1, :] = displ_y\n",
    "            snapshot_mtx[i_mode, i_node_snapshot_mtx + 2, :] = displ_z\n",
    "\n",
    "            # Update index of the snapshot matrix\n",
    "            i_node_snapshot_mtx = i_node_snapshot_mtx + 3\n",
    "\n",
    "    return times, np.sum(snapshot_mtx, axis=0)"
   ]
  },
  {
   "cell_type": "markdown",
   "id": "signal-tablet",
   "metadata": {},
   "source": [
    "## Create path to file"
   ]
  },
  {
   "cell_type": "code",
   "execution_count": 17,
   "id": "adjusted-breathing",
   "metadata": {},
   "outputs": [],
   "source": [
    "path_root = Path(\"/home/usuari/Documentos/CIMNE/bibliografia/model_order_reduction/notebooks\")\n",
    "name_file = \"cantilever_eigenvalue.flavia.res\"\n",
    "path_file = path_root / name_file"
   ]
  },
  {
   "cell_type": "markdown",
   "id": "emotional-feature",
   "metadata": {},
   "source": [
    "## Read the first mode of the file"
   ]
  },
  {
   "cell_type": "code",
   "execution_count": 18,
   "id": "eligible-firewall",
   "metadata": {},
   "outputs": [
    {
     "name": "stdout",
     "output_type": "stream",
     "text": [
      "Result \"Mode_1_(Freq.: 2.207) (m)\" \"Modes\" 0 Vector OnNodes\n",
      "\n"
     ]
    }
   ],
   "source": [
    "frequencies, modes_values_list = read_modes_freq_from_file(\n",
    "        path_file, nb_first_modes=1)"
   ]
  },
  {
   "cell_type": "markdown",
   "id": "tired-citizenship",
   "metadata": {},
   "source": [
    "## Create the displacement field with the first mode and the first natural frequency"
   ]
  },
  {
   "cell_type": "code",
   "execution_count": 19,
   "id": "arranged-combining",
   "metadata": {},
   "outputs": [],
   "source": [
    "times, SNAPSHOT_MATRIX = reconstruct_displacement_from_modes(\n",
    "        frequencies, modes_values_list, t_start=0, nb_periods=10)"
   ]
  },
  {
   "cell_type": "markdown",
   "id": "practical-phrase",
   "metadata": {},
   "source": [
    "## Apply Kratos rSVD\n",
    "The tolerance 1e-6 is relative to the Frobenius norm of the SNAPSHOT_MATRIX."
   ]
  },
  {
   "cell_type": "code",
   "execution_count": 20,
   "id": "ruled-henry",
   "metadata": {},
   "outputs": [
    {
     "name": "stdout",
     "output_type": "stream",
     "text": [
      "iter =  1  nC =  1.8288883407032382e-13  dR =  1.0  R =  1\n"
     ]
    }
   ],
   "source": [
    "# Apply Kratos tools\n",
    "tolerance = 1e-6\n",
    "u, s, v, _ = RandomizedSingularValueDecomposition().Calculate(\n",
    "        SNAPSHOT_MATRIX, tolerance)"
   ]
  },
  {
   "cell_type": "markdown",
   "id": "unusual-amplifier",
   "metadata": {},
   "source": [
    "## Reconstruction of the displacement field from Kratos output"
   ]
  },
  {
   "cell_type": "code",
   "execution_count": 21,
   "id": "knowing-accessory",
   "metadata": {},
   "outputs": [],
   "source": [
    "# Reconstruction of the displacement field with rSVD\n",
    "svd = s[0] * u * v.T"
   ]
  },
  {
   "cell_type": "markdown",
   "id": "secure-telephone",
   "metadata": {},
   "source": [
    "## Plot comparison"
   ]
  },
  {
   "cell_type": "code",
   "execution_count": 22,
   "id": "compatible-warning",
   "metadata": {},
   "outputs": [
    {
     "data": {
      "image/png": "[encoded data removed]",
      "text/plain": [
       "<Figure size 432x288 with 1 Axes>"
      ]
     },
     "metadata": {
      "needs_background": "light"
     },
     "output_type": "display_data"
    }
   ],
   "source": [
    "    # Figure parameters\n",
    "    fig, ax = plt.subplots()\n",
    "    ax.set_xlabel(\"time (s)\")\n",
    "    ax.set_ylabel(\"displacement (m)\")\n",
    "\n",
    "    # Plot the displacement\n",
    "    plt.plot(times, SNAPSHOT_MATRIX[1, :], color=\"red\", label=\"original\")\n",
    "\n",
    "    # Plot the reconstructed displacement with the rSVD\n",
    "    plt.plot(times, svd[1, :], \"o\", color=\"blue\", label=\"KRATOS rSVD\")\n",
    "\n",
    "    plt.legend(loc=\"upper right\")\n",
    "    plt.show()    # Figure parameters"
   ]
  }
 ],
 "metadata": {
  "kernelspec": {
   "display_name": "Python 3",
   "language": "python",
   "name": "python3"
  },
  "language_info": {
   "codemirror_mode": {
    "name": "ipython",
    "version": 3
   },
   "file_extension": ".py",
   "mimetype": "text/x-python",
   "name": "python",
   "nbconvert_exporter": "python",
   "pygments_lexer": "ipython3",
   "version": "3.8.5"
  }
 },
 "nbformat": 4,
 "nbformat_minor": 5
}
