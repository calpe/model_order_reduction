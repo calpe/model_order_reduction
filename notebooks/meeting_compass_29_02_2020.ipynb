{
 "cells": [
  {
   "cell_type": "markdown",
   "id": "printable-damage",
   "metadata": {},
   "source": [
    "# Meeting Compass\n",
    "\n",
    "29/01/2020\n",
    "\n",
    "Output files Compass for ROM with Kratos"
   ]
  },
  {
   "cell_type": "markdown",
   "id": "acoustic-cabin",
   "metadata": {},
   "source": [
    "## Example of MOR in Kratos: StanfordBunny"
   ]
  },
  {
   "cell_type": "markdown",
   "id": "surface-balance",
   "metadata": {},
   "source": [
    "Two stages: \n",
    "\n",
    "1. Train MOR: Reduction degrees of freedom.\n",
    "\n",
    "2. Train HROM: Reduction number of integration points. "
   ]
  },
  {
   "cell_type": "markdown",
   "id": "higher-factor",
   "metadata": {},
   "source": [
    "### Import libraries"
   ]
  },
  {
   "cell_type": "code",
   "execution_count": 1,
   "id": "diagnostic-tomato",
   "metadata": {},
   "outputs": [],
   "source": [
    "import KratosMultiphysics\n",
    "import KratosMultiphysics.RomApplication as romapp\n",
    "\n",
    "from KratosMultiphysics.RomApplication.randomized_singular_value_decomposition import RandomizedSingularValueDecomposition\n",
    "from KratosMultiphysics.StructuralMechanicsApplication.structural_mechanics_analysis import StructuralMechanicsAnalysis\n",
    "from KratosMultiphysics.RomApplication.structural_mechanics_analysis_rom import StructuralMechanicsAnalysisROM\n",
    "from matplotlib import pyplot as plt\n",
    "\n",
    "import numpy as np\n",
    "import json"
   ]
  },
  {
   "cell_type": "markdown",
   "id": "athletic-denmark",
   "metadata": {},
   "source": [
    "### Define class to save data and create the Snapshot Matrix"
   ]
  },
  {
   "cell_type": "code",
   "execution_count": 2,
   "id": "opposed-consultancy",
   "metadata": {},
   "outputs": [],
   "source": [
    "class StructuralMechanicsAnalysisSavingData(StructuralMechanicsAnalysis):\n",
    "\n",
    "    def __init__(self,model,project_parameters):\n",
    "        super().__init__(model,project_parameters)\n",
    "        self.time_step_solution_container = []\n",
    "\n",
    "    def FinalizeSolutionStep(self):\n",
    "        super().FinalizeSolutionStep()\n",
    "        ArrayOfDisplacements = []\n",
    "        for node in self._GetSolver().GetComputingModelPart().Nodes:\n",
    "            ArrayOfDisplacements.append(node.GetSolutionStepValue(KratosMultiphysics.DISPLACEMENT_X, 0))\n",
    "            ArrayOfDisplacements.append(node.GetSolutionStepValue(KratosMultiphysics.DISPLACEMENT_Y, 0))\n",
    "            ArrayOfDisplacements.append(node.GetSolutionStepValue(KratosMultiphysics.DISPLACEMENT_Z, 0))\n",
    "        self.time_step_solution_container.append(ArrayOfDisplacements)\n",
    "\n",
    "\n",
    "    def EvaluateQuantityOfInterest(self):\n",
    "       ##############################################################################################\n",
    "       #     Functions evaluating the QoI of the problem: Snapshot matrix of every time step        #\n",
    "       #                                                                                            #\n",
    "       ##############################################################################################\n",
    "        SnapshotMatrix = np.zeros((len(self.time_step_solution_container[0]), len(self.time_step_solution_container)))\n",
    "        for i in range(len(self.time_step_solution_container)):\n",
    "            Snapshot_i= np.array(self.time_step_solution_container[i])\n",
    "            SnapshotMatrix[:,i] = Snapshot_i.transpose()\n",
    "        return SnapshotMatrix"
   ]
  },
  {
   "cell_type": "markdown",
   "id": "generic-population",
   "metadata": {},
   "source": [
    "### Define parameters"
   ]
  },
  {
   "cell_type": "code",
   "execution_count": 3,
   "id": "bright-upper",
   "metadata": {},
   "outputs": [],
   "source": [
    "with open(\"ProjectParameters.json\",'r') as parameter_file:\n",
    "    parameters = KratosMultiphysics.Parameters(parameter_file.read())"
   ]
  },
  {
   "cell_type": "markdown",
   "id": "functioning-duncan",
   "metadata": {},
   "source": [
    "### Define model and simulation"
   ]
  },
  {
   "cell_type": "code",
   "execution_count": 4,
   "id": "sharing-trunk",
   "metadata": {},
   "outputs": [],
   "source": [
    "model = KratosMultiphysics.Model()\n",
    "simulation = StructuralMechanicsAnalysisSavingData(model,parameters)"
   ]
  },
  {
   "cell_type": "markdown",
   "id": "greenhouse-lesbian",
   "metadata": {},
   "source": [
    "### Run simulation"
   ]
  },
  {
   "cell_type": "code",
   "execution_count": 5,
   "id": "interested-writing",
   "metadata": {},
   "outputs": [],
   "source": [
    "simulation.Run()"
   ]
  },
  {
   "cell_type": "markdown",
   "id": "committed-architect",
   "metadata": {},
   "source": [
    "Solution saved in memory simulation.time_step_solution_container. It is not written in file. "
   ]
  },
  {
   "cell_type": "markdown",
   "id": "toxic-signal",
   "metadata": {},
   "source": [
    "### Create snaposhot matrix"
   ]
  },
  {
   "cell_type": "code",
   "execution_count": 11,
   "id": "dried-standard",
   "metadata": {},
   "outputs": [],
   "source": [
    "SnapshotMatrix = simulation.EvaluateQuantityOfInterest()"
   ]
  },
  {
   "cell_type": "code",
   "execution_count": 14,
   "id": "efficient-agreement",
   "metadata": {},
   "outputs": [
    {
     "name": "stdout",
     "output_type": "stream",
     "text": [
      "Shape of SnapshotMatrix =  (26688, 15)\n"
     ]
    }
   ],
   "source": [
    "# Shape of this matrix\n",
    "print('Shape of SnapshotMatrix = ', SnapshotMatrix.shape)"
   ]
  },
  {
   "cell_type": "code",
   "execution_count": 16,
   "id": "atomic-building",
   "metadata": {},
   "outputs": [
    {
     "name": "stdout",
     "output_type": "stream",
     "text": [
      "Number of nodes = 8896\n",
      "Number of time steps =  15\n"
     ]
    }
   ],
   "source": [
    "# Number of displacements = 3 (displ_x, displ_y, displ_z)\n",
    "\n",
    "# Number of nodes\n",
    "print('Number of nodes =', SnapshotMatrix.shape[0] // 3)\n",
    "\n",
    "# Number of time steps\n",
    "print('Number of time steps = ', SnapshotMatrix.shape[1])"
   ]
  }
 ],
 "metadata": {
  "kernelspec": {
   "display_name": "Python 3",
   "language": "python",
   "name": "python3"
  },
  "language_info": {
   "codemirror_mode": {
    "name": "ipython",
    "version": 3
   },
   "file_extension": ".py",
   "mimetype": "text/x-python",
   "name": "python",
   "nbconvert_exporter": "python",
   "pygments_lexer": "ipython3",
   "version": "3.8.5"
  }
 },
 "nbformat": 4,
 "nbformat_minor": 5
}
