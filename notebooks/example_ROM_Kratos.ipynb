{
 "cells": [
  {
   "cell_type": "markdown",
   "id": "lined-canadian",
   "metadata": {},
   "source": [
    "# Example ROM Kratos\n",
    "\n",
    "StanfordBunny\n",
    "\n",
    "Files to be provided to run the notebook: \n",
    "\n",
    "example_ROM_Kratos.ipynb\n",
    "\n",
    "ProjectParameters.json\n",
    "\n",
    "StructuralMaterials.json\n",
    "\n",
    "StructuralMaterials_HROM.json\n",
    "\n",
    "StandfordBunnyKratos.mpda"
   ]
  },
  {
   "cell_type": "markdown",
   "id": "great-house",
   "metadata": {},
   "source": [
    "## 1. Train Reduced Order Model (ROM)"
   ]
  },
  {
   "cell_type": "markdown",
   "id": "exposed-lodging",
   "metadata": {},
   "source": [
    "### Import libraries"
   ]
  },
  {
   "cell_type": "code",
   "execution_count": 2,
   "id": "greatest-explorer",
   "metadata": {},
   "outputs": [],
   "source": [
    "import KratosMultiphysics\n",
    "import KratosMultiphysics.RomApplication as romapp\n",
    "from KratosMultiphysics.RomApplication.randomized_singular_value_decomposition import RandomizedSingularValueDecomposition\n",
    "from KratosMultiphysics.StructuralMechanicsApplication.structural_mechanics_analysis import StructuralMechanicsAnalysis\n",
    "from KratosMultiphysics.RomApplication.structural_mechanics_analysis_rom import StructuralMechanicsAnalysisROM\n",
    "from matplotlib import pyplot as plt\n",
    "import numpy as np\n",
    "import json"
   ]
  },
  {
   "cell_type": "markdown",
   "id": "hidden-earthquake",
   "metadata": {},
   "source": [
    "### Define class to save data and create the Snapshot Matrix"
   ]
  },
  {
   "cell_type": "code",
   "execution_count": 7,
   "id": "orange-inspector",
   "metadata": {},
   "outputs": [],
   "source": [
    "class StructuralMechanicsAnalysisSavingData(StructuralMechanicsAnalysis):\n",
    "\n",
    "    def __init__(self,model,project_parameters):\n",
    "        super().__init__(model,project_parameters)\n",
    "        self.time_step_solution_container = []\n",
    "\n",
    "    def FinalizeSolutionStep(self):\n",
    "        super().FinalizeSolutionStep()\n",
    "        ArrayOfDisplacements = []\n",
    "        for node in self._GetSolver().GetComputingModelPart().Nodes:\n",
    "            ArrayOfDisplacements.append(node.GetSolutionStepValue(KratosMultiphysics.DISPLACEMENT_X, 0))\n",
    "            ArrayOfDisplacements.append(node.GetSolutionStepValue(KratosMultiphysics.DISPLACEMENT_Y, 0))\n",
    "            ArrayOfDisplacements.append(node.GetSolutionStepValue(KratosMultiphysics.DISPLACEMENT_Z, 0))\n",
    "        self.time_step_solution_container.append(ArrayOfDisplacements)\n",
    "\n",
    "\n",
    "    def EvaluateQuantityOfInterest(self):\n",
    "       ##############################################################################################\n",
    "       #     Functions evaluating the QoI of the problem: Snapshot matrix of every time step        #\n",
    "       #                                                                                            #\n",
    "       ##############################################################################################\n",
    "        SnapshotMatrix = np.zeros((len(self.time_step_solution_container[0]), len(self.time_step_solution_container)))\n",
    "        for i in range(len(self.time_step_solution_container)):\n",
    "            Snapshot_i= np.array(self.time_step_solution_container[i])\n",
    "            SnapshotMatrix[:,i] = Snapshot_i.transpose()\n",
    "        return SnapshotMatrix"
   ]
  },
  {
   "cell_type": "markdown",
   "id": "essential-plumbing",
   "metadata": {},
   "source": [
    "### Define parameters"
   ]
  },
  {
   "cell_type": "code",
   "execution_count": 8,
   "id": "consecutive-three",
   "metadata": {},
   "outputs": [],
   "source": [
    "with open(\"ProjectParameters.json\",'r') as parameter_file:\n",
    "    parameters = KratosMultiphysics.Parameters(parameter_file.read())"
   ]
  },
  {
   "cell_type": "markdown",
   "id": "opening-dispute",
   "metadata": {},
   "source": [
    "### Define model and simulation"
   ]
  },
  {
   "cell_type": "code",
   "execution_count": 9,
   "id": "unsigned-emphasis",
   "metadata": {},
   "outputs": [],
   "source": [
    "model = KratosMultiphysics.Model()\n",
    "simulation = StructuralMechanicsAnalysisSavingData(model,parameters)"
   ]
  },
  {
   "cell_type": "markdown",
   "id": "infrared-death",
   "metadata": {},
   "source": [
    "### Run simulation"
   ]
  },
  {
   "cell_type": "code",
   "execution_count": 10,
   "id": "unavailable-biotechnology",
   "metadata": {},
   "outputs": [],
   "source": [
    "simulation.Run()"
   ]
  },
  {
   "cell_type": "markdown",
   "id": "golden-guidance",
   "metadata": {},
   "source": [
    "### Create Snapshot Matrix"
   ]
  },
  {
   "cell_type": "code",
   "execution_count": 14,
   "id": "perfect-force",
   "metadata": {},
   "outputs": [],
   "source": [
    "SnapshotMatrix = simulation.EvaluateQuantityOfInterest()"
   ]
  },
  {
   "cell_type": "code",
   "execution_count": 16,
   "id": "aerial-trick",
   "metadata": {},
   "outputs": [
    {
     "data": {
      "text/plain": [
       "(26688, 15)"
      ]
     },
     "execution_count": 16,
     "metadata": {},
     "output_type": "execute_result"
    }
   ],
   "source": [
    "# Shape of the snapshotmatrix\n",
    "SnapshotMatrix.shape"
   ]
  },
  {
   "cell_type": "code",
   "execution_count": 20,
   "id": "economic-absolute",
   "metadata": {},
   "outputs": [
    {
     "name": "stdout",
     "output_type": "stream",
     "text": [
      "number of nodes =  8896\n"
     ]
    }
   ],
   "source": [
    "# Number of nodes (3 displacement per node)\n",
    "number_nodes = SnapshotMatrix.shape[0] // 3\n",
    "print('number of nodes = ', number_nodes)"
   ]
  },
  {
   "cell_type": "code",
   "execution_count": 22,
   "id": "excited-windsor",
   "metadata": {},
   "outputs": [
    {
     "name": "stdout",
     "output_type": "stream",
     "text": [
      "number of time steps =  15\n"
     ]
    }
   ],
   "source": [
    "# Number of time steps (defined by the file ProjectParameters.json)\n",
    "print('number of time steps = ', SnapshotMatrix.shape[1])"
   ]
  },
  {
   "cell_type": "markdown",
   "id": "useful-wellington",
   "metadata": {},
   "source": [
    "### Compute the SVD\n",
    "\n",
    "Randomized Singular Value Decomposition algortihm.\n",
    "\n",
    "RomApplication in Kratos can be found: Kratos > applications > RomApplication\n",
    "\n",
    "For other references:\n",
    "\n",
    "[External reference of Python implementation of the rSVD](https://towardsdatascience.com/intuitive-understanding-of-randomized-singular-value-decomposition-9389e27cb9de)\n",
    "\n",
    "Randomized matrix decomposition using R. (Erichson et. Al. 2016)"
   ]
  },
  {
   "cell_type": "code",
   "execution_count": 24,
   "id": "mature-japanese",
   "metadata": {},
   "outputs": [
    {
     "name": "stdout",
     "output_type": "stream",
     "text": [
      "iter =  1  nC =  0.0406237977750454  dR =  1.0  R =  1\n",
      "reorthogonalizing\n",
      "iter =  2  nC =  1.7212569230394412e-05  dR =  4.0  R =  5\n",
      "reorthogonalizing\n",
      "iter =  3  nC =  2.332018622710088e-09  dR =  4.0  R =  9\n",
      "reorthogonalizing\n",
      "iter =  4  nC =  7.118537478513069e-14  dR =  4.0  R =  13\n"
     ]
    }
   ],
   "source": [
    "# Apply rSVD to the SnapshotMatrix\n",
    "tolerance = 1e-6\n",
    "u,s,_,_= RandomizedSingularValueDecomposition().Calculate(SnapshotMatrix, tolerance)"
   ]
  },
  {
   "cell_type": "code",
   "execution_count": 27,
   "id": "attended-church",
   "metadata": {},
   "outputs": [
    {
     "name": "stdout",
     "output_type": "stream",
     "text": [
      "Number of modes =  5\n"
     ]
    }
   ],
   "source": [
    "# u is the orthogonal matrix with the reduced basis\n",
    "print('Number of modes = ', u.shape[1])"
   ]
  },
  {
   "cell_type": "code",
   "execution_count": 28,
   "id": "mounted-shoulder",
   "metadata": {},
   "outputs": [
    {
     "name": "stdout",
     "output_type": "stream",
     "text": [
      "Number of singular values =  5\n"
     ]
    }
   ],
   "source": [
    "# s is the  diagonal matrix with the singular values\n",
    "print('Number of singular values = ', s.shape[0])"
   ]
  },
  {
   "cell_type": "markdown",
   "id": "extraordinary-peace",
   "metadata": {},
   "source": [
    "### Plot singular values in logarithmic scale"
   ]
  },
  {
   "cell_type": "code",
   "execution_count": 35,
   "id": "acute-cliff",
   "metadata": {},
   "outputs": [
    {
     "data": {
      "image/png": "[encoded data removed]",
      "text/plain": [
       "<Figure size 432x288 with 1 Axes>"
      ]
     },
     "metadata": {
      "needs_background": "light"
     },
     "output_type": "display_data"
    }
   ],
   "source": [
    "plt.plot(np.arange(0,len(s), dtype=int), np.log(s), marker='o', markerfacecolor='blue', markersize=12, color='skyblue', linewidth=4)\n",
    "plt.xlabel('Singular values')\n",
    "plt.ylabel('Value')\n",
    "plt.show()"
   ]
  },
  {
   "cell_type": "markdown",
   "id": "greek-behalf",
   "metadata": {},
   "source": [
    "### Save POD basis in .json file"
   ]
  },
  {
   "cell_type": "code",
   "execution_count": 37,
   "id": "patent-provider",
   "metadata": {},
   "outputs": [
    {
     "name": "stdout",
     "output_type": "stream",
     "text": [
      "\n",
      "\n",
      "Nodal basis printed in json format\n",
      "\n",
      "\n"
     ]
    }
   ],
   "source": [
    "basis_POD={\"rom_settings\":{},\"nodal_modes\":{}}\n",
    "basis_POD[\"rom_settings\"][\"nodal_unknowns\"] = [\"DISPLACEMENT_X\",\"DISPLACEMENT_Y\",\"DISPLACEMENT_Z\"]\n",
    "basis_POD[\"rom_settings\"][\"number_of_rom_dofs\"] = np.shape(u)[1]\n",
    "Dimensions = len(basis_POD[\"rom_settings\"][\"nodal_unknowns\"])\n",
    "N_nodes=np.shape(u)[0]/Dimensions\n",
    "N_nodes = int(N_nodes)\n",
    "node_Id=np.linspace(1,N_nodes,N_nodes)\n",
    "i = 0\n",
    "for j in range (0,N_nodes):\n",
    "    basis_POD[\"nodal_modes\"][int(node_Id[j])] = (u[i:i+Dimensions].tolist())\n",
    "    i=i+Dimensions\n",
    "\n",
    "with open('RomParameters.json', 'w') as f:\n",
    "    json.dump(basis_POD,f, indent=2)\n",
    "\n",
    "print('\\n\\nNodal basis printed in json format\\n\\n')"
   ]
  },
  {
   "cell_type": "markdown",
   "id": "successful-peter",
   "metadata": {},
   "source": [
    "## 2. Train Hyper-Reduced Order Model (HROM)"
   ]
  },
  {
   "cell_type": "markdown",
   "id": "gothic-protection",
   "metadata": {},
   "source": [
    "### Define paramenters"
   ]
  },
  {
   "cell_type": "code",
   "execution_count": 3,
   "id": "lyric-disabled",
   "metadata": {},
   "outputs": [],
   "source": [
    "with open(\"ProjectParameters.json\",'r') as parameter_file:\n",
    "    parameters = KratosMultiphysics.Parameters(parameter_file.read())"
   ]
  },
  {
   "cell_type": "markdown",
   "id": "becoming-payday",
   "metadata": {},
   "source": [
    "### Define simulation and model"
   ]
  },
  {
   "cell_type": "code",
   "execution_count": 6,
   "id": "funded-sauce",
   "metadata": {},
   "outputs": [],
   "source": [
    "# Hyper-reduction method : Empirical Cubature\n",
    "method_HROM = \"EmpiricalCubature\"\n",
    "model = KratosMultiphysics.Model()\n",
    "simulation = StructuralMechanicsAnalysisROM(model,parameters, method_HROM)"
   ]
  },
  {
   "cell_type": "markdown",
   "id": "northern-group",
   "metadata": {},
   "source": [
    "### Run simulation"
   ]
  },
  {
   "cell_type": "code",
   "execution_count": 7,
   "id": "engaged-florist",
   "metadata": {},
   "outputs": [
    {
     "name": "stdout",
     "output_type": "stream",
     "text": [
      "\n",
      "\n",
      "\n",
      "\n",
      "Generating matrix of residuals\n",
      "\n",
      "\n",
      "\n",
      "\n",
      "Generating matrix of residuals\n",
      "\n",
      "\n",
      "\n",
      "\n",
      "Generating matrix of residuals\n",
      "\n",
      "\n",
      "\n",
      "\n",
      "Generating matrix of residuals\n",
      "\n",
      "\n",
      "\n",
      "\n",
      "Generating matrix of residuals\n",
      "\n",
      "\n",
      "\n",
      "\n",
      "Generating matrix of residuals\n",
      "\n",
      "\n",
      "\n",
      "\n",
      "Generating matrix of residuals\n",
      "\n",
      "\n",
      "\n",
      "\n",
      "Generating matrix of residuals\n",
      "\n",
      "\n",
      "\n",
      "\n",
      "Generating matrix of residuals\n",
      "\n",
      "\n",
      "\n",
      "\n",
      "Generating matrix of residuals\n",
      "\n",
      "\n",
      "\n",
      "\n",
      "Generating matrix of residuals\n",
      "\n",
      "\n",
      "\n",
      "\n",
      "Generating matrix of residuals\n",
      "\n",
      "\n",
      "\n",
      "\n",
      "Generating matrix of residuals\n",
      "\n",
      "\n",
      "\n",
      "\n",
      "Generating matrix of residuals\n",
      "\n",
      "\n",
      "\n",
      "\n",
      "Generating matrix of residuals\n",
      "iter =  1  nC =  276.65437313262254  dR =  1.0  R =  1\n",
      "reorthogonalizing\n",
      "iter =  2  nC =  0.2246769246616922  dR =  19.0  R =  20\n",
      "reorthogonalizing\n",
      "iter =  3  nC =  0.0001539299907062079  dR =  19.0  R =  39\n",
      "reorthogonalizing\n",
      "iter =  4  nC =  3.247901660572437e-08  dR =  19.0  R =  58\n",
      "reorthogonalizing\n",
      "iter =  5  nC =  5.299869212043708e-10  dR =  7.0  R =  65\n",
      "k = 1, m = 1, error n(res)/n(b) (%) = 69.6216379607422,  Actual error % = 69.6216379607422 \n",
      "k = 2, m = 2, error n(res)/n(b) (%) = 55.48315291313926,  Actual error % = 55.48315291313926 \n",
      "k = 3, m = 3, error n(res)/n(b) (%) = 40.578573822493105,  Actual error % = 40.578573822493105 \n",
      "k = 4, m = 4, error n(res)/n(b) (%) = 22.249469616570693,  Actual error % = 22.249469616570693 \n"
     ]
    },
    {
     "name": "stderr",
     "output_type": "stream",
     "text": [
      "/home/usuari/Kratos/bin/Release/KratosMultiphysics/RomApplication/empirical_cubature_method.py:108: FutureWarning: `rcond` parameter will change to the default of machine precision times ``max(M, N)`` where M and N are the input matrix dimensions.\n",
      "To use the future default and silence this warning we advise to pass `rcond=None`, to keep using the old, explicitly pass `rcond=-1`.\n",
      "  alpha = np.linalg.lstsq(self.G[:, [i]], self.b)[0]\n"
     ]
    },
    {
     "name": "stdout",
     "output_type": "stream",
     "text": [
      "k = 5, m = 5, error n(res)/n(b) (%) = 18.134366587146218,  Actual error % = 18.134366587146218 \n",
      "k = 6, m = 6, error n(res)/n(b) (%) = 15.974101122810232,  Actual error % = 15.974101122810232 \n",
      "k = 7, m = 7, error n(res)/n(b) (%) = 14.913033722050859,  Actual error % = 14.913033722050859 \n",
      "k = 8, m = 8, error n(res)/n(b) (%) = 13.393993992864706,  Actual error % = 13.393993992864706 \n",
      "k = 9, m = 9, error n(res)/n(b) (%) = 11.856360761415266,  Actual error % = 11.856360761415266 \n",
      "k = 10, m = 10, error n(res)/n(b) (%) = 9.902557643255973,  Actual error % = 9.902557643255973 \n",
      "k = 11, m = 11, error n(res)/n(b) (%) = 8.434258033947813,  Actual error % = 8.434258033947813 \n",
      "k = 12, m = 12, error n(res)/n(b) (%) = 6.608493168790878,  Actual error % = 6.608493168790878 \n",
      "k = 13, m = 13, error n(res)/n(b) (%) = 4.787878443326727,  Actual error % = 4.787878443326727 \n",
      "k = 14, m = 14, error n(res)/n(b) (%) = 3.640708105388155,  Actual error % = 3.640708105388155 \n",
      "k = 15, m = 15, error n(res)/n(b) (%) = 2.9015138199926436,  Actual error % = 2.9015138199926436 \n",
      "k = 16, m = 16, error n(res)/n(b) (%) = 2.4469229247576245,  Actual error % = 2.4469229247576245 \n",
      "k = 17, m = 17, error n(res)/n(b) (%) = 2.054451559777981,  Actual error % = 2.054451559777981 \n",
      "k = 18, m = 18, error n(res)/n(b) (%) = 1.7432467278408088,  Actual error % = 1.7432467278408088 \n",
      "k = 19, m = 19, error n(res)/n(b) (%) = 1.3030889090842979,  Actual error % = 1.3030889090842979 \n",
      "k = 20, m = 20, error n(res)/n(b) (%) = 1.1241422171753899,  Actual error % = 1.1241422171753899 \n",
      "k = 21, m = 21, error n(res)/n(b) (%) = 0.9416624498323536,  Actual error % = 0.9416624498323536 \n",
      "k = 22, m = 22, error n(res)/n(b) (%) = 0.7998129349723562,  Actual error % = 0.7998129349723562 \n",
      "k = 23, m = 23, error n(res)/n(b) (%) = 0.6518828181442765,  Actual error % = 0.6518828181442765 \n",
      "k = 24, m = 24, error n(res)/n(b) (%) = 0.4619143038981232,  Actual error % = 0.4619143038981232 \n",
      "k = 25, m = 25, error n(res)/n(b) (%) = 0.35178528259488895,  Actual error % = 0.35178528259488895 \n",
      "k = 26, m = 26, error n(res)/n(b) (%) = 0.2801622983563611,  Actual error % = 0.2801622983563611 \n",
      "k = 27, m = 27, error n(res)/n(b) (%) = 0.2083282732244611,  Actual error % = 0.2083282732244611 \n",
      "k = 28, m = 28, error n(res)/n(b) (%) = 0.15916896963499153,  Actual error % = 0.15916896963499153 \n",
      "k = 29, m = 29, error n(res)/n(b) (%) = 0.09466505456422505,  Actual error % = 0.09466505456422505 \n",
      "k = 30, m = 30, error n(res)/n(b) (%) = 0.06233277223198003,  Actual error % = 0.06233277223198003 \n",
      "k = 31, m = 31, error n(res)/n(b) (%) = 0.03662142466469188,  Actual error % = 0.03662142466469188 \n",
      "k = 32, m = 32, error n(res)/n(b) (%) = 0.004180799658177158,  Actual error % = 0.004180799658177158 \n",
      "k = 33, m = 33, error n(res)/n(b) (%) = 3.090367611224952e-14,  Actual error % = 3.090367611224952e-14 \n",
      "Total number of iterations = 34\n",
      "\n",
      "\n",
      " Elements and conditions selected have been saved in a json file\n",
      "\n",
      "\n",
      "originalSubmodelpart.Name SurfacePressure3D_Pressure_on_surfaces_Auto4\n",
      "originalSubmodelpart.Elements 0\n",
      "originalSubmodelpart.Conditions 242\n",
      "For the submodelpart SurfacePressure3D_Pressure_on_surfaces_Auto4, the condition with the Id 10388 is assigned the key 10387\n",
      "For the submodelpart SurfacePressure3D_Pressure_on_surfaces_Auto4, the condition with the Id 10395 is assigned the key 10394\n",
      "For the submodelpart SurfacePressure3D_Pressure_on_surfaces_Auto4, the condition with the Id 10411 is assigned the key 10410\n",
      "For the submodelpart SurfacePressure3D_Pressure_on_surfaces_Auto4, the condition with the Id 10420 is assigned the key 10419\n",
      "For the submodelpart SurfacePressure3D_Pressure_on_surfaces_Auto4, the condition with the Id 10421 is assigned the key 10420\n",
      "For the submodelpart SurfacePressure3D_Pressure_on_surfaces_Auto4, the condition with the Id 10438 is assigned the key 10437\n",
      "For the submodelpart SurfacePressure3D_Pressure_on_surfaces_Auto4, the condition with the Id 10454 is assigned the key 10453\n",
      "For the submodelpart SurfacePressure3D_Pressure_on_surfaces_Auto4, the condition with the Id 10478 is assigned the key 10477\n",
      "For the submodelpart SurfacePressure3D_Pressure_on_surfaces_Auto4, the condition with the Id 10535 is assigned the key 10534\n",
      "For the submodelpart SurfacePressure3D_Pressure_on_surfaces_Auto4, the condition with the Id 10541 is assigned the key 10540\n",
      "For the submodelpart SurfacePressure3D_Pressure_on_surfaces_Auto4, the condition with the Id 10557 is assigned the key 10556\n",
      "For the submodelpart SurfacePressure3D_Pressure_on_surfaces_Auto4, the condition with the Id 10559 is assigned the key 10558\n",
      "For the submodelpart SurfacePressure3D_Pressure_on_surfaces_Auto4, the condition with the Id 10565 is assigned the key 10564\n",
      "For the submodelpart SurfacePressure3D_Pressure_on_surfaces_Auto4, the condition with the Id 10566 is assigned the key 10565\n",
      "For the submodelpart SurfacePressure3D_Pressure_on_surfaces_Auto4, the condition with the Id 10587 is assigned the key 10586\n",
      "For the submodelpart SurfacePressure3D_Pressure_on_surfaces_Auto4, the condition with the Id 10600 is assigned the key 10599\n",
      "For the submodelpart SurfacePressure3D_Pressure_on_surfaces_Auto4, the condition with the Id 10612 is assigned the key 10611\n",
      "For the submodelpart SurfacePressure3D_Pressure_on_surfaces_Auto4, the condition with the Id 10614 is assigned the key 10613\n",
      "originalSubmodelpart.Name DISPLACEMENT_Displacement_Auto2\n",
      "originalSubmodelpart.Elements 0\n",
      "originalSubmodelpart.Conditions 0\n",
      "originalSubmodelpart.Name SurfaceLoad3D_Load_on_surfaces_Auto1\n",
      "originalSubmodelpart.Elements 0\n",
      "originalSubmodelpart.Conditions 10372\n",
      "originalSubmodelpart.Name Parts_Parts_Auto1\n",
      "originalSubmodelpart.Elements 36595\n",
      "originalSubmodelpart.Conditions 0\n",
      "For the submodelpart Parts_Parts_Auto1, the element with the Id 35 is assigned the key 34\n",
      "For the submodelpart Parts_Parts_Auto1, the element with the Id 764 is assigned the key 763\n",
      "For the submodelpart Parts_Parts_Auto1, the element with the Id 1699 is assigned the key 1698\n",
      "For the submodelpart Parts_Parts_Auto1, the element with the Id 8786 is assigned the key 8785\n",
      "For the submodelpart Parts_Parts_Auto1, the element with the Id 9468 is assigned the key 9467\n",
      "For the submodelpart Parts_Parts_Auto1, the element with the Id 13621 is assigned the key 13620\n",
      "For the submodelpart Parts_Parts_Auto1, the element with the Id 17416 is assigned the key 17415\n",
      "For the submodelpart Parts_Parts_Auto1, the element with the Id 17808 is assigned the key 17807\n",
      "For the submodelpart Parts_Parts_Auto1, the element with the Id 26210 is assigned the key 26209\n",
      "For the submodelpart Parts_Parts_Auto1, the element with the Id 26372 is assigned the key 26371\n",
      "For the submodelpart Parts_Parts_Auto1, the element with the Id 29958 is assigned the key 29957\n",
      "For the submodelpart Parts_Parts_Auto1, the element with the Id 30319 is assigned the key 30318\n",
      "For the submodelpart Parts_Parts_Auto1, the element with the Id 34433 is assigned the key 34432\n",
      "For the submodelpart Parts_Parts_Auto1, the element with the Id 35754 is assigned the key 35753\n",
      "For the submodelpart Parts_Parts_Auto1, the element with the Id 36523 is assigned the key 36522\n",
      "Adding skin for visualization...\n",
      "About to print ...\n",
      "\n",
      "Hyper_Reduced_Model_Part.mdpa created!\n",
      "\n"
     ]
    }
   ],
   "source": [
    "simulation.Run()"
   ]
  }
 ],
 "metadata": {
  "kernelspec": {
   "display_name": "Python 3",
   "language": "python",
   "name": "python3"
  },
  "language_info": {
   "codemirror_mode": {
    "name": "ipython",
    "version": 3
   },
   "file_extension": ".py",
   "mimetype": "text/x-python",
   "name": "python",
   "nbconvert_exporter": "python",
   "pygments_lexer": "ipython3",
   "version": "3.8.5"
  }
 },
 "nbformat": 4,
 "nbformat_minor": 5
}
